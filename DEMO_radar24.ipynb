{
  "cells": [
    {
      "cell_type": "markdown",
      "metadata": {
        "id": "view-in-github",
        "colab_type": "text"
      },
      "source": [
        "<a href=\"https://colab.research.google.com/github/mahmoudkanazzal/A-strategy-for-residual-component-based-multiple-structured-dictionary-learning/blob/main/DEMO_radar24.ipynb\" target=\"_parent\"><img src=\"https://colab.research.google.com/assets/colab-badge.svg\" alt=\"Open In Colab\"/></a>"
      ]
    },
    {
      "cell_type": "markdown",
      "id": "e041b63d",
      "metadata": {
        "id": "e041b63d"
      },
      "source": [
        "## Imports"
      ]
    },
    {
      "cell_type": "code",
      "execution_count": null,
      "id": "96671495",
      "metadata": {
        "id": "96671495"
      },
      "outputs": [],
      "source": [
        "from sklearn.metrics import accuracy_score, roc_curve\n",
        "import numpy as np\n",
        "import matplotlib.pyplot as plt\n",
        "import random\n",
        "from sklearn.model_selection import train_test_split\n",
        "from sklearn.neural_network import MLPClassifier\n",
        "import torch"
      ]
    },
    {
      "cell_type": "markdown",
      "id": "530c1976",
      "metadata": {
        "id": "530c1976"
      },
      "source": [
        "## Functions"
      ]
    },
    {
      "cell_type": "code",
      "execution_count": null,
      "id": "8bfd1537",
      "metadata": {
        "id": "8bfd1537"
      },
      "outputs": [],
      "source": [
        "# convert complex to real\n",
        "def c2r(z):\n",
        "    z_real = z.real\n",
        "    z_imag = z.imag\n",
        "    z_bar = np.hstack((z_real, z_imag))\n",
        "    return np.array(z_bar)"
      ]
    },
    {
      "cell_type": "markdown",
      "id": "4cdd15f2",
      "metadata": {
        "id": "4cdd15f2"
      },
      "source": [
        "### Generate training and test data"
      ]
    },
    {
      "cell_type": "code",
      "execution_count": null,
      "id": "69fc2e28",
      "metadata": {
        "id": "69fc2e28"
      },
      "outputs": [],
      "source": [
        "# Define parameters K, sigma_alpha_squared, and sigma_noise_squared [Question (2)]\n",
        "K = 32\n",
        "sigma_alpha_squared = 250\n",
        "sigma_noise_squared=10\n",
        "\n",
        "# Function to generate a complex alpha based on Swerling model\n",
        "def generate_alpha(sigma_alpha_squared):\n",
        "    real_part = np.random.normal(0, np.sqrt(sigma_alpha_squared / 2))\n",
        "    imag_part = np.random.normal(0, np.sqrt(sigma_alpha_squared / 2))\n",
        "    return real_part + 1j * imag_part\n",
        "\n",
        "def generate_noise(sigma_noise_squared, s):\n",
        "\n",
        "    sigma_noise = np.sqrt(sigma_noise_squared)\n",
        "\n",
        "    real_noise = np.random.normal(0, sigma_noise, s.shape)\n",
        "    imaginary_noise = np.random.normal(0, sigma_noise, s.shape)\n",
        "\n",
        "    complex_noise = real_noise + 1j * imaginary_noise\n",
        "\n",
        "    return complex_noise\n",
        "\n",
        "# Here we specify the vlaues of f_dT_c [Question (1)]\n",
        "\n",
        "# Function to generate s and y pair\n",
        "def generate_sy_pair(K, label):\n",
        "    # Generate random phase for the s_k signal\n",
        "    theta_K = 2 * np.pi * np.random.uniform(0, 1, K)\n",
        "\n",
        "    # Create the s signal\n",
        "    s = (1/np.sqrt(K)) * np.exp(1j * theta_K)\n",
        "\n",
        "    # noise realization (environment noise)\n",
        "    n = generate_noise(sigma_noise_squared, s)\n",
        "\n",
        "    if label>0: # if there is an object in the view area\n",
        "        # sample a value for f_dT_c\n",
        "        f_dT_c = np.random.normal(0, 1)*0.001\n",
        "        # Create the Phi(f_d) diagonal matrix\n",
        "        phi_diag = np.exp(1j * 2 * np.pi * f_dT_c * np.arange(K))\n",
        "        Phi = np.diag(phi_diag)\n",
        "\n",
        "        # Create y signal with alpha from the Swerling model\n",
        "        alpha = generate_alpha(sigma_alpha_squared)\n",
        "\n",
        "        y = alpha * Phi @ s + n\n",
        "    else: # if there is no object\n",
        "        y =  n\n",
        "    # convert complex to real, and concatinate\n",
        "    y_bar=c2r(y)\n",
        "\n",
        "    # calculate z:\n",
        "    z = y * np.conjugate(s)\n",
        "    z_bar=c2r(z)\n",
        "    s=np.array(s)\n",
        "#     print(s.shape)\n",
        "    # return s, y, y_bar,z, and z_bar, as matrics (bar means converted to real)\n",
        "    return np.array(s), np.array(y), np.array(y_bar), np.array(z), np.array(z_bar)\n",
        "\n",
        "# here, we specify the size of the whole data set [Question (3)]\n",
        "\n",
        "# NN: the number of signals in the whole set. Those will be divided later into training and testing signals.\n",
        "# We later use the fucntion train_test_split to split this into training and test sets with a controllable ratio (for example 0.2 means\n",
        "# 80% of these vectors are assigned to the training set and 20% are for the test set.)\n",
        "\n",
        "# Initialize empty arrays to store s, y, y_bar, z, z_bar, and labels\n",
        "NN=30000\n",
        "s_arr = np.empty((NN, K), dtype=complex)\n",
        "y_arr = np.empty((NN, K), dtype=complex)\n",
        "z_arr = np.empty((NN, K), dtype=complex)\n",
        "y_bar_arr = np.empty((NN, K*2))\n",
        "z_bar_arr = np.empty((NN, K*2))\n",
        "label_arr = np.empty(NN, dtype=int)\n",
        "\n",
        "for i in range(NN):\n",
        "\n",
        "    # randomly deicde if there is an object (1) or not (0)\n",
        "    label_i = random.choice([0, 1])\n",
        "\n",
        "    # for this realziation, get s, y, y_bar, z, and z_bar\n",
        "    si, yi, y_bari, zi, z_bari=generate_sy_pair(K, label_i)\n",
        "        # Store si, yi, yi_bar, z_i, zi_bar, and blabel_i in their respective arrays\n",
        "    s_arr[i, :] = si\n",
        "    y_arr[i, :] = yi\n",
        "    y_bar_arr[i, :] = y_bari\n",
        "    z_arr[i, :] = zi\n",
        "    z_bar_arr[i, :] = z_bari\n",
        "    label_arr[i] = label_i\n"
      ]
    },
    {
      "cell_type": "markdown",
      "id": "17707c0b",
      "metadata": {
        "id": "17707c0b"
      },
      "source": [
        "## First: Old (With preprocessing) with PyTorch"
      ]
    },
    {
      "cell_type": "code",
      "source": [
        "# This is the creation of the FF model architecture [Question (4)]"
      ],
      "metadata": {
        "id": "irhOFV0c9uEC"
      },
      "id": "irhOFV0c9uEC",
      "execution_count": null,
      "outputs": []
    },
    {
      "cell_type": "code",
      "execution_count": null,
      "id": "046ff1f5",
      "metadata": {
        "id": "046ff1f5"
      },
      "outputs": [],
      "source": [
        "import torch\n",
        "import torch.nn as nn\n",
        "import torch.optim as optim\n",
        "import torch.nn.functional as F\n",
        "\n",
        "class FeedFowardClassifier(nn.Module):\n",
        "    def __init__(self):\n",
        "        super(FeedFowardClassifier, self).__init__()\n",
        "        # Step 2: Add one or more fully connected layers.\n",
        "        self.fc1 = nn.Linear(64, 32).double() # You can add more layers if you like\n",
        "        self.fc2 = nn.Linear(32, 2).double()\n",
        "\n",
        "    def forward(self, x1):\n",
        "        # Fully connected layers with activations\n",
        "        x = F.relu(self.fc1(x1))\n",
        "\n",
        "        # Output layer with softmax\n",
        "        out = self.fc2(x)\n",
        "\n",
        "        return out"
      ]
    },
    {
      "cell_type": "code",
      "execution_count": null,
      "id": "43424c79",
      "metadata": {
        "id": "43424c79"
      },
      "outputs": [],
      "source": [
        "model = FeedFowardClassifier()\n",
        "# print(model)"
      ]
    },
    {
      "cell_type": "code",
      "execution_count": null,
      "id": "02819dfd",
      "metadata": {
        "id": "02819dfd"
      },
      "outputs": [],
      "source": [
        "criterion = nn.CrossEntropyLoss()\n",
        "optimizer = optim.Adam(model.parameters(), lr=0.001)"
      ]
    },
    {
      "cell_type": "code",
      "execution_count": null,
      "id": "a32fb81c",
      "metadata": {
        "id": "a32fb81c"
      },
      "outputs": [],
      "source": [
        "Xtr, Xts, Ltr, Lts = train_test_split(z_bar_arr, label_arr, test_size=0.2, random_state=42)\n",
        "Xtr=torch.tensor(Xtr)\n",
        "Xts=torch.tensor(Xts)\n",
        "Ltr=torch.tensor(Ltr)\n",
        "Lts=torch.tensor(Lts)\n",
        "from torch.utils.data import TensorDataset, DataLoader\n",
        "\n",
        "dataset = TensorDataset(Xtr, Ltr)\n",
        "data_loader = DataLoader(dataset, batch_size=8192, shuffle=True)"
      ]
    },
    {
      "cell_type": "code",
      "source": [
        "# Xts The size of this array is the number of trails for the testing (inferenc) [Question (5)]"
      ],
      "metadata": {
        "id": "4jIfgC3F-rX-"
      },
      "id": "4jIfgC3F-rX-",
      "execution_count": null,
      "outputs": []
    },
    {
      "cell_type": "code",
      "source": [
        "# num_epochs=1000 this refers to the number epochs the ML model is trained over the training data, i.e., having a full\n",
        "# pass over the training dataset (3)"
      ],
      "metadata": {
        "id": "UeExqqql97gV"
      },
      "id": "UeExqqql97gV",
      "execution_count": null,
      "outputs": []
    },
    {
      "cell_type": "code",
      "execution_count": null,
      "id": "131270f2",
      "metadata": {
        "id": "131270f2"
      },
      "outputs": [],
      "source": [
        "num_epochs=1000\n",
        "for epoch in range(1000):\n",
        "    for data, labels in data_loader:  # Assuming you have a DataLoader named train_loader\n",
        "        optimizer.zero_grad()\n",
        "        outputs = model(data)\n",
        "        loss = criterion(outputs, labels)\n",
        "        loss.backward()\n",
        "        optimizer.step()\n",
        "    # print(f\"Epoch {epoch+1}/{num_epochs}, Loss: {loss.item()}\")"
      ]
    },
    {
      "cell_type": "code",
      "execution_count": null,
      "id": "027b2853",
      "metadata": {
        "colab": {
          "base_uri": "https://localhost:8080/"
        },
        "id": "027b2853",
        "outputId": "04709cc7-3feb-4791-ac0a-41acab17669b"
      },
      "outputs": [
        {
          "name": "stdout",
          "output_type": "stream",
          "text": [
            "Accuracy: 85.23%\n"
          ]
        }
      ],
      "source": [
        "with torch.no_grad():\n",
        "    Xtest = Xts.to(\"cpu\")\n",
        "    outputs = model(Xtest)\n",
        "\n",
        "_, predicted = torch.max(outputs, 1)\n",
        "\n",
        "# Assuming Labeltest is a torch tensor; if not, convert it\n",
        "if not isinstance(Lts, torch.Tensor):\n",
        "    Labeltest = torch.tensor(Lts)\n",
        "\n",
        "correct = (predicted.cpu() == Lts).sum().item()\n",
        "total = Lts.size(0)\n",
        "accuracy = correct / total\n",
        "\n",
        "print(f\"Accuracy: {accuracy * 100:.2f}%\")"
      ]
    },
    {
      "cell_type": "code",
      "execution_count": null,
      "id": "9ac4ead8",
      "metadata": {
        "id": "9ac4ead8"
      },
      "outputs": [],
      "source": [
        "model.eval()\n",
        "\n",
        "with torch.no_grad():\n",
        "    # Assuming Xtest and Ytest are torch tensors; if they're not, convert them.\n",
        "    Xtest = Xtest.to(\"cpu\")\n",
        "    outputs = model(Xtest)\n",
        "    # Get the predicted probabilities for the positive class (assuming it's the second column of the outputs)\n",
        "    probs = torch.nn.functional.softmax(outputs, dim=1)[:, 1].cpu().numpy()\n",
        "\n",
        "from sklearn.metrics import roc_curve\n",
        "import matplotlib.pyplot as plt\n",
        "\n",
        "fpr1, tpr1, thresholds = roc_curve(Lts, probs)"
      ]
    },
    {
      "cell_type": "markdown",
      "id": "a523138c",
      "metadata": {
        "id": "a523138c"
      },
      "source": [
        "## Second: End-to-end DNN"
      ]
    },
    {
      "cell_type": "code",
      "execution_count": null,
      "id": "64231f4f",
      "metadata": {
        "id": "64231f4f"
      },
      "outputs": [],
      "source": [
        "import torch\n",
        "import torch.nn as nn\n",
        "import torch.nn.functional as F\n",
        "def prep(data):\n",
        "  # Extracting real and imaginary parts\n",
        "  real_parts = [num.real for num in data]\n",
        "  imaginary_parts = [num.imag for num in data]\n",
        "  formatted_data=[]\n",
        "  for i in range(len(real_parts)):\n",
        "    formatted_data.append([real_parts[i],imaginary_parts[i]])\n",
        "\n",
        "  # Convert to a PyTorch tensor\n",
        "  input_tensor = torch.tensor(formatted_data, dtype=torch.float64)\n",
        "  return input_tensor\n",
        "\n",
        "class FistLayers(nn.Module):\n",
        "    def __init__(self, lambda_val=0.000001, bias1=2.3787):\n",
        "        super(FistLayers, self).__init__()\n",
        "\n",
        "        self.lambda_val = lambda_val\n",
        "        self.bias1 = torch.tensor(bias1, dtype=torch.float64)  # Use double precision\n",
        "\n",
        "        self.mu = 1 / ((self.lambda_val ** 2) * 4 * self.sigmoid_sec(self.bias1))\n",
        "\n",
        "        self.W1 = nn.Parameter(torch.tensor([[lambda_val, lambda_val],\n",
        "                                             [-lambda_val, -lambda_val],\n",
        "                                             [lambda_val, -lambda_val],\n",
        "                                             [-lambda_val, lambda_val]], dtype=torch.float64), requires_grad=True)  # Use double precision\n",
        "\n",
        "        self.b1 = nn.Parameter(torch.tensor([bias1, bias1, bias1, bias1], dtype=torch.float64).view(1, 4, 1), requires_grad=True)  # Use double precision\n",
        "        self.W2 = nn.Parameter(torch.tensor([self.mu, self.mu, -self.mu, -self.mu], dtype=torch.float64), requires_grad=True)  # Use double precision\n",
        "\n",
        "    def sigmoid_sec(self, x):\n",
        "        sigm = torch.sigmoid(x)\n",
        "        return sigm * (1 - sigm) * (1 - 2 * sigm)\n",
        "\n",
        "    def forward(self, x):\n",
        "        batch_size = x.size(0)\n",
        "        x = x.view(batch_size, 2, 1)  # Reshape to [batch_size, 2, 1]\n",
        "        z1 = torch.bmm(self.W1.unsqueeze(0).repeat(batch_size, 1, 1), x) + self.b1\n",
        "        a1 = torch.sigmoid(z1)\n",
        "        z2 = torch.bmm(self.W2.view(1, 1, 4).repeat(batch_size, 1, 1), a1)\n",
        "        return z2.squeeze(2).squeeze(1)\n",
        "\n",
        "class BatchComplexFistLayers(nn.Module):\n",
        "    def __init__(self, lambda_val=0.000001, bias1=2.3787):\n",
        "        super(BatchComplexFistLayers, self).__init__()\n",
        "\n",
        "        # Instance of the FistLayers to handle the components of the complex product\n",
        "        self.multiplier = FistLayers(lambda_val, bias1)\n",
        "\n",
        "    def forward(self, complex_arr1, complex_arr2):\n",
        "        batch_size = complex_arr1.shape[0]\n",
        "\n",
        "        # Separate the real and imaginary parts\n",
        "        real1, imag1 = complex_arr1[:, :, 0], -complex_arr1[:, :, 1]\n",
        "        real2, imag2 = complex_arr2[:, :, 0], complex_arr2[:, :, 1]\n",
        "\n",
        "        # Calculate the components of the product\n",
        "        real_product = self.multiplier(torch.stack([real1, real2], dim=2).view(-1, 2)) - \\\n",
        "                       self.multiplier(torch.stack([imag1, imag2], dim=2).view(-1, 2))\n",
        "        imag_product = self.multiplier(torch.stack([real1, imag2], dim=2).view(-1, 2)) + \\\n",
        "                       self.multiplier(torch.stack([imag1, real2], dim=2).view(-1, 2))\n",
        "\n",
        "        # Reshape and stack the results\n",
        "        real_product = real_product.view(batch_size, 32)\n",
        "        imag_product = imag_product.view(batch_size, 32)\n",
        "        result = torch.cat([real_product, imag_product], dim=1)\n",
        "\n",
        "        return result\n",
        "\n",
        "class FeedFowardClassifier(nn.Module): # thewholemodel\n",
        "    def __init__(self):\n",
        "        super(FeedFowardClassifier, self).__init__()\n",
        "\n",
        "        # Step 1: inital layers\n",
        "        self.complex_multiplier = BatchComplexFistLayers()\n",
        "\n",
        "        # Step 2: Add one or more fully connected layers.\n",
        "        self.fc1 = nn.Linear(64, 32).double() # You can add more layers if you like\n",
        "        self.fc2 = nn.Linear(32, 2).double()\n",
        "\n",
        "    def forward(self, x1, x2):\n",
        "        # Complex multiplication\n",
        "        x = self.complex_multiplier(x1, x2)\n",
        "\n",
        "        # Fully connected layers with activations\n",
        "        x = F.relu(self.fc1(x))\n",
        "\n",
        "        # Output layer with softmax\n",
        "        out = self.fc2(x)\n",
        "\n",
        "        return out"
      ]
    },
    {
      "cell_type": "code",
      "execution_count": null,
      "id": "38f6d4f3",
      "metadata": {
        "colab": {
          "base_uri": "https://localhost:8080/"
        },
        "id": "38f6d4f3",
        "outputId": "3f604f7c-5920-462e-ef4c-d1861f8e2cd9"
      },
      "outputs": [
        {
          "name": "stdout",
          "output_type": "stream",
          "text": [
            "Training on GPU\n"
          ]
        }
      ],
      "source": [
        "S=[]\n",
        "Y=[]\n",
        "for i in range(len(s_arr)):\n",
        "  S.append(prep(s_arr[i]))\n",
        "  Y.append(prep(y_arr[i]))\n",
        "\n",
        "Xtr, Xts, Ytr, Yts, Ltr, Lts = train_test_split(S, Y, label_arr, test_size=0.2, random_state=42)\n",
        "Xtr=torch.stack(Xtr)\n",
        "Xts=torch.stack(Xts)\n",
        "Ytr=torch.stack(Ytr)\n",
        "Yts=torch.stack(Yts)\n",
        "Ltr=torch.tensor(Ltr)\n",
        "Lts=torch.tensor(Lts)\n",
        "from torch.utils.data import TensorDataset, DataLoader\n",
        "\n",
        "dataset = TensorDataset(Xtr, Ytr, Ltr)\n",
        "data_loader = DataLoader(dataset, batch_size=8192, shuffle=True)\n",
        "\n",
        "# Check if CUDA is available\n",
        "if torch.cuda.is_available():\n",
        "    device = torch.device(\"cuda\")\n",
        "    print(\"Training on GPU\")\n",
        "else:\n",
        "    device = torch.device(\"cpu\")\n",
        "    print(\"Training on CPU\")\n",
        "\n",
        "model = FeedFowardClassifier().to(device)  # Transfer the model to GPU\n",
        "for param in model.complex_multiplier.parameters():\n",
        "    param.requires_grad = False\n",
        "# print(model.complex_multiplier.multiplier.W1)\n",
        "# print(model.complex_multiplier.multiplier.W2)\n",
        "# print(model.complex_multiplier.multiplier.b1)\n",
        "criterion = nn.CrossEntropyLoss()\n",
        "optimizer = torch.optim.Adam(model.parameters(), lr=0.0001)\n",
        "\n",
        "num_epochs = 1000\n",
        "\n",
        "for epoch in range(num_epochs):\n",
        "    for batch_x1, batch_x2, batch_y in data_loader:\n",
        "        # Transfer data to GPU\n",
        "        batch_x1, batch_x2, batch_y = batch_x1.to(device), batch_x2.to(device), batch_y.to(device)\n",
        "\n",
        "        outputs = model(batch_x1, batch_x2)\n",
        "        loss = criterion(outputs, batch_y)\n",
        "\n",
        "        optimizer.zero_grad()\n",
        "        loss.backward()\n",
        "        optimizer.step()\n",
        "\n",
        "    # print(f\"Epoch [{epoch+1}/{num_epochs}], Loss: {loss.item():.4f}\")\n"
      ]
    },
    {
      "cell_type": "code",
      "execution_count": null,
      "id": "55709cb1",
      "metadata": {
        "colab": {
          "base_uri": "https://localhost:8080/"
        },
        "id": "55709cb1",
        "outputId": "1b84cecb-2f65-4a2d-90f8-6a7ab2f38c9d"
      },
      "outputs": [
        {
          "name": "stdout",
          "output_type": "stream",
          "text": [
            "Accuracy: 86.55%\n"
          ]
        }
      ],
      "source": [
        "with torch.no_grad():\n",
        "    Xtest = Xts.to(device)\n",
        "    Ytest = Yts.to(device)\n",
        "    outputs = model(Xtest, Ytest)\n",
        "\n",
        "\n",
        "_, predicted = torch.max(outputs, 1)\n",
        "\n",
        "\n",
        "# Assuming Labeltest is a torch tensor; if not, convert it\n",
        "if not isinstance(Lts, torch.Tensor):\n",
        "    Labeltest = torch.tensor(Lts)\n",
        "\n",
        "correct = (predicted.cpu() == Lts).sum().item()\n",
        "total = Lts.size(0)\n",
        "accuracy = correct / total\n",
        "\n",
        "print(f\"Accuracy: {accuracy * 100:.2f}%\")"
      ]
    },
    {
      "cell_type": "code",
      "execution_count": null,
      "id": "7e9ac3fa",
      "metadata": {
        "id": "7e9ac3fa"
      },
      "outputs": [],
      "source": [
        "model.eval()\n",
        "if torch.cuda.is_available():\n",
        "    device = torch.device(\"cuda\")\n",
        "else:\n",
        "    device = torch.device(\"cpu\")\n",
        "model.to(device)\n",
        "\n",
        "\n",
        "with torch.no_grad():\n",
        "    # Assuming Xtest and Ytest are torch tensors; if they're not, convert them.\n",
        "    Xtest = Xtest.to(device)\n",
        "    Ytest = Ytest.to(device)\n",
        "    outputs = model(Xtest, Ytest)\n",
        "    # Get the predicted probabilities for the positive class (assuming it's the second column of the outputs)\n",
        "    probs = torch.nn.functional.softmax(outputs, dim=1)[:, 1].cpu().numpy()\n",
        "\n",
        "\n",
        "from sklearn.metrics import roc_curve\n",
        "import matplotlib.pyplot as plt\n",
        "\n",
        "fpr2, tpr2, thresholds = roc_curve(Lts, probs)"
      ]
    },
    {
      "cell_type": "code",
      "execution_count": null,
      "id": "c872aafb",
      "metadata": {
        "colab": {
          "base_uri": "https://localhost:8080/",
          "height": 476
        },
        "id": "c872aafb",
        "outputId": "afce9ed6-250c-4def-fb04-433bfd0f41c8"
      },
      "outputs": [
        {
          "data": {
            "image/png": "[encoded data removed]",
            "text/plain": [
              "<Figure size 640x480 with 1 Axes>"
            ]
          },
          "metadata": {},
          "output_type": "display_data"
        }
      ],
      "source": [
        "# Plot ROC curve\n",
        "plt.figure()\n",
        "plt.plot(fpr2, tpr2, color='black', linestyle='--',lw=2.5, label='End-to-end DNN')\n",
        "plt.plot(fpr1, tpr1, color='cyan', linestyle='--',lw=2.5, label='Old (With preprocessing) with PyTorch')\n",
        "\n",
        "# Set x-axis limits on a logarithmic scale\n",
        "plt.xscale('log')\n",
        "plt.xlim([1e-3, 1.0])\n",
        "plt.ylim([0.0, 1.05])\n",
        "plt.xlabel('False Positive Rate')\n",
        "plt.ylabel('True Positive Rate')\n",
        "plt.title('Receiver Operating Characteristic (ROC) Curve')\n",
        "plt.legend(loc='upper left')\n",
        "plt.grid(True)\n",
        "plt.savefig(\"result_oct16.png\", dpi=150)\n",
        "plt.show()"
      ]
    },
    {
      "cell_type": "markdown",
      "id": "766bec0f",
      "metadata": {
        "id": "766bec0f"
      },
      "source": [
        "1. What are the vlaues of f_d and T_c? or the product f_d*T_c (the normlized f_d is in [0,1]). I suppose that the reuslts in Fig. 4 are based on a random selection of f_d. WHat are the speciifcaitons of this randomness?\n",
        "2. What is the value of sigma_alpha_squared or sigma_noise_squared (given that SNR=10=sigma_alpha^2/sigma_noise^2)?\n",
        "3. How many data points are used in the experiemnt? what is the train/test split ratio?\n",
        "4. What are the architectral specifcations of the feedforward classifier model? (number of layers/ learning rate, etc.)\n",
        "5. The number of trials used in averaging the results in Fig 4"
      ]
    }
  ],
  "metadata": {
    "accelerator": "GPU",
    "colab": {
      "gpuType": "T4",
      "provenance": [],
      "include_colab_link": true
    },
    "kernelspec": {
      "display_name": "Python 3 (ipykernel)",
      "language": "python",
      "name": "python3"
    },
    "language_info": {
      "codemirror_mode": {
        "name": "ipython",
        "version": 3
      },
      "file_extension": ".py",
      "mimetype": "text/x-python",
      "name": "python",
      "nbconvert_exporter": "python",
      "pygments_lexer": "ipython3",
      "version": "3.9.18"
    }
  },
  "nbformat": 4,
  "nbformat_minor": 5
}